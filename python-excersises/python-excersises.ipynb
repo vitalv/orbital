{
 "cells": [
  {
   "cell_type": "markdown",
   "metadata": {},
   "source": [
    "# Python Excersises"
   ]
  },
  {
   "cell_type": "markdown",
   "metadata": {},
   "source": [
    "## Recorrer los 100 primeros números naturales.   \n",
    "## Si un numero es multiplo de 3 imprime Fizz.   \n",
    "## Si es múltiplo de 5 imprime Buzz.  \n",
    "## Si es múltiplo de los dos imprime FizzBuzz."
   ]
  },
  {
   "cell_type": "code",
   "execution_count": 1,
   "metadata": {},
   "outputs": [
    {
     "name": "stdout",
     "output_type": "stream",
     "text": [
      "1\n",
      "2\n",
      "Fizz\n",
      "4\n",
      "Buzz\n",
      "Fizz\n",
      "7\n",
      "8\n",
      "Fizz\n",
      "Buzz\n",
      "11\n",
      "Fizz\n",
      "13\n",
      "14\n",
      "FizzBuzz\n",
      "16\n",
      "17\n",
      "Fizz\n",
      "19\n",
      "Buzz\n",
      "Fizz\n",
      "22\n",
      "23\n",
      "Fizz\n",
      "Buzz\n",
      "26\n",
      "Fizz\n",
      "28\n",
      "29\n",
      "FizzBuzz\n",
      "31\n",
      "32\n",
      "Fizz\n",
      "34\n",
      "Buzz\n",
      "Fizz\n",
      "37\n",
      "38\n",
      "Fizz\n",
      "Buzz\n",
      "41\n",
      "Fizz\n",
      "43\n",
      "44\n",
      "FizzBuzz\n",
      "46\n",
      "47\n",
      "Fizz\n",
      "49\n",
      "Buzz\n",
      "Fizz\n",
      "52\n",
      "53\n",
      "Fizz\n",
      "Buzz\n",
      "56\n",
      "Fizz\n",
      "58\n",
      "59\n",
      "FizzBuzz\n",
      "61\n",
      "62\n",
      "Fizz\n",
      "64\n",
      "Buzz\n",
      "Fizz\n",
      "67\n",
      "68\n",
      "Fizz\n",
      "Buzz\n",
      "71\n",
      "Fizz\n",
      "73\n",
      "74\n",
      "FizzBuzz\n",
      "76\n",
      "77\n",
      "Fizz\n",
      "79\n",
      "Buzz\n",
      "Fizz\n",
      "82\n",
      "83\n",
      "Fizz\n",
      "Buzz\n",
      "86\n",
      "Fizz\n",
      "88\n",
      "89\n",
      "FizzBuzz\n",
      "91\n",
      "92\n",
      "Fizz\n",
      "94\n",
      "Buzz\n",
      "Fizz\n",
      "97\n",
      "98\n",
      "Fizz\n",
      "Buzz\n"
     ]
    }
   ],
   "source": [
    "for i in range(1, 101):\n",
    "    if i%3==0 and i%5!=0:\n",
    "        print(\"Fizz\")\n",
    "    elif i%5==0 and i%3!=0:\n",
    "        print(\"Buzz\")\n",
    "    elif i%3==0 and i%5==0:\n",
    "        print(\"FizzBuzz\")\n",
    "    else :\n",
    "        print(i)"
   ]
  },
  {
   "cell_type": "markdown",
   "metadata": {},
   "source": [
    "## Fraudulent Activity Nofification"
   ]
  },
  {
   "cell_type": "markdown",
   "metadata": {},
   "source": [
    "HackerLand National Bank has a simple policy for warning clients about possible  fraudulent account activity. If the amount spent by a client on a  particular day is greater than or equal to 2x the client's median spending for the last d days, they send the client a notification about potential fraud. The bank doesn't send the client any notifications until they have at least d prior days of transaction data.\n",
    "\n",
    "Given the value of d and a client's total daily expenditures for a period of n days, find and print the number of times the client will receive a notification over all n days.\n",
    "\n",
    "### Note: \n",
    "The median of a list of numbers can be found  by arranging all the numbers from smallest to greatest. If there is an  odd number of numbers, the middle one is picked. If there is an even  number of numbers, median is then defined to be the average of the two  middle values.\n",
    "\n",
    "### Input Format:\n",
    "\n",
    "The first line contains two space-separated integers denoting the respective values of n (the number of days there is transaction data for) and d (the number of prior days the bank uses to calculate median spending). \n",
    " The second line contains n space-separated non-negative integers where each integer  i denotes expenditure (i.e., the client's total expenditure for day i).\n",
    "\n",
    "### Constraints \n",
    "\n",
    "### Output Format\n",
    "\n",
    "Print an integer denoting the total number of times the client receives a notification over a period of n days.\n",
    "\n",
    "### Sample Input 0 \n",
    "\n",
    "9 5  \n",
    "2 3 4 2 3 6 8 4 5\n",
    "\n",
    "\n",
    "### Sample Output 0 \n",
    "\n",
    "2\n",
    "\n",
    "\n",
    "### Explanation 0\n",
    "\n",
    "We must determine the total number of notifications the client receives over a period of n = 9 days. For the first five days, the customer receives no notifications because the bank has insufficient transaction data and notifications = 0. On the sixth day, the bank has d = 5 days of prior transaction data, {2,3,4,2,3}, and median=3 dollars. The client spends 6 dollars, which triggers a notification because 6 >= 2 x median. Thus, notifications = 1.\n",
    "\n",
    "On the seventh day, the bank has d = 5 days of prior transaction data, {3,4,2,3,6}, and  median = 3 dollars. The client spends 8 dollars, which triggers a notification because 8 >= 2 x median. Thus, notifications = 1 + 1 = 2.\n",
    "\n",
    "On the eighth day, the bank has d=5 days of prior transaction data, {4,2,3,6,8}, and median = 4 dollars. The client spends 4 dollars, which does not trigger a notification because 4 < 2 x median.\n",
    "\n",
    "On the ninth day, the bank has d = 5 days of prior transaction data, {2,3,6,8,4}, and a transaction median of 4 dollars. The client spends 5 dollars, which does not trigger a notification because 5 < 2 x median.\n",
    "\n",
    "We then print the final value of notifications (which is 2) as our answer."
   ]
  },
  {
   "cell_type": "markdown",
   "metadata": {},
   "source": [
    "### Additional *personal* note:\n",
    "#### Read data from files. Data from Sample Input 0 is stored in input0.txt. Data from Sample Input 1 is stored in input1.txt"
   ]
  },
  {
   "cell_type": "code",
   "execution_count": 2,
   "metadata": {},
   "outputs": [],
   "source": [
    "import numpy as np"
   ]
  },
  {
   "cell_type": "code",
   "execution_count": 8,
   "metadata": {},
   "outputs": [],
   "source": [
    "def read_data(filename):\n",
    "    data = open(filename).readlines()\n",
    "    n, d = int(data[0].split()[0]), int(data[0].split()[1])\n",
    "    t = [int(n) for n in data[1].split()]\n",
    "    return n, d, t"
   ]
  },
  {
   "cell_type": "code",
   "execution_count": 9,
   "metadata": {},
   "outputs": [],
   "source": [
    "def count_notifications(filename):\n",
    "    n,d,t = read_data(filename)\n",
    "    return len([t[i+1] for i in range(d-1, n-1) if t[i+1] >= 2*(np.median(t[i::-1][0:d]))])"
   ]
  },
  {
   "cell_type": "code",
   "execution_count": 10,
   "metadata": {},
   "outputs": [
    {
     "data": {
      "text/plain": [
       "2"
      ]
     },
     "execution_count": 10,
     "metadata": {},
     "output_type": "execute_result"
    }
   ],
   "source": [
    "count_notifications('input0.txt')"
   ]
  },
  {
   "cell_type": "code",
   "execution_count": 11,
   "metadata": {},
   "outputs": [
    {
     "data": {
      "text/plain": [
       "0"
      ]
     },
     "execution_count": 11,
     "metadata": {},
     "output_type": "execute_result"
    }
   ],
   "source": [
    "count_notifications('input1.txt')"
   ]
  },
  {
   "cell_type": "code",
   "execution_count": 14,
   "metadata": {},
   "outputs": [
    {
     "data": {
      "text/plain": [
       "3"
      ]
     },
     "execution_count": 14,
     "metadata": {},
     "output_type": "execute_result"
    }
   ],
   "source": [
    "count_notifications('input2.txt')"
   ]
  },
  {
   "cell_type": "markdown",
   "metadata": {},
   "source": [
    "Alternative, longer but also more readable :"
   ]
  },
  {
   "cell_type": "code",
   "execution_count": 12,
   "metadata": {},
   "outputs": [],
   "source": [
    "def count_notifications_2(filename):\n",
    "    n,d,t = read_data(filename)\n",
    "    notifications=0\n",
    "    for i in range(d-1, n-1):\n",
    "        m = np.median(t[i::-1][0:d])\n",
    "        c = t[i+1]\n",
    "        if c >= 2*m:\n",
    "            notifications+=1\n",
    "    return notifications"
   ]
  },
  {
   "cell_type": "code",
   "execution_count": 13,
   "metadata": {},
   "outputs": [
    {
     "data": {
      "text/plain": [
       "2"
      ]
     },
     "execution_count": 13,
     "metadata": {},
     "output_type": "execute_result"
    }
   ],
   "source": [
    "count_notifications_2('input0.txt')"
   ]
  },
  {
   "cell_type": "code",
   "execution_count": 15,
   "metadata": {},
   "outputs": [
    {
     "data": {
      "text/plain": [
       "3"
      ]
     },
     "execution_count": 15,
     "metadata": {},
     "output_type": "execute_result"
    }
   ],
   "source": [
    "count_notifications_2('input2.txt')"
   ]
  },
  {
   "cell_type": "markdown",
   "metadata": {},
   "source": [
    "## Arithmetic progression"
   ]
  },
  {
   "cell_type": "markdown",
   "metadata": {},
   "source": [
    "An Arithmetic Progression is defined as one in which there is a  constant difference between the consecutive terms of a given series of  numbers.  \n",
    "\n",
    "You are provided with consecutive elements of an Arithmetic  Progression. There is however one hitch: exactly one term from the  original series is missing from the set of numbers which have been given  to you.  \n",
    "\n",
    "The rest of the given series is the same as the original AP.   Find the missing term.   \n",
    "\n",
    "You have to write the function find_missing(list), list will always be at least 3 numbers. The missing term will never be the first or last one.  \n",
    "\n"
   ]
  },
  {
   "cell_type": "code",
   "execution_count": 16,
   "metadata": {},
   "outputs": [],
   "source": [
    "from itertools import tee\n",
    "\n",
    "'''\n",
    "From the documentation:\n",
    "itertools.tee(iterable, n=2)\n",
    "Return n independent iterators from a single iterable.\n",
    "next(iterator, default)\n",
    "default (optional) - this value is returned if the iterator is exhausted (no items left)\n",
    "'''\n",
    "\n",
    "def pairwise(iterable):\n",
    "    \"s -> (s0,s1), (s1,s2), (s2, s3), ...\"\n",
    "    a, b = tee(iterable)\n",
    "    next(b, None)\n",
    "    return zip(a, b)"
   ]
  },
  {
   "cell_type": "code",
   "execution_count": 22,
   "metadata": {},
   "outputs": [],
   "source": [
    "def find_missing(l):\n",
    "    '''look at all the difference between the elements pairwise, then find index of missed step'''\n",
    "    diff = []\n",
    "    for a,b in pairwise(l): \n",
    "        diff.append(abs(a-b))\n",
    "    step = [i for i in diff if diff.count(i) > 1][0]\n",
    "    missed_step = [i for i in diff if diff.count(i) == 1][0]\n",
    "    return l[diff.index(missed_step)]+step"
   ]
  },
  {
   "cell_type": "code",
   "execution_count": 23,
   "metadata": {},
   "outputs": [
    {
     "data": {
      "text/plain": [
       "53"
      ]
     },
     "execution_count": 23,
     "metadata": {},
     "output_type": "execute_result"
    }
   ],
   "source": [
    "l0 = [27, -12, 66, 79, 14, 1, 92, 40]\n",
    "l0 = sorted(l0)\n",
    "find_missing(l0)"
   ]
  },
  {
   "cell_type": "code",
   "execution_count": 24,
   "metadata": {},
   "outputs": [
    {
     "data": {
      "text/plain": [
       "196"
      ]
     },
     "execution_count": 24,
     "metadata": {},
     "output_type": "execute_result"
    }
   ],
   "source": [
    "l1 = [963, 1405, 1301, 950, 1028, 391, -12, 326, 222, 1249, 1067, 170, 937, 911, 664, 651, 300, 1327, 14, 1171, 105, 274, 417, 1340, 547, 378, 53, 807, 1158, 638, 1197, 248, 1379, 586, 1054, 794, 352, 404, 625, 209, 1106, 235, 1132, 1041, 456, 469, 573, 183, 924, 1457, 1353, 1002, 755, 872, 118, 1314, 716, 1093, 1431, 729, 898, 885, 677, 430, 1262, 1366, 1015, 742, 1236, 495, 534, 131, 313, 1184, 261, 976, 1418, 40, 1288, 1496, 703, 27, 820, 1275, 287, 79, 859, 1223, 157, 781, 1080, 144, 599, 1392, 989, 339, 768, 66, 1483, 1145, 508, 521, 1444, 1470, 1119, 92, 482, 365, 1210, 443, 612, 833, 1, 560, 846, 690 ]\n",
    "l1 = sorted(l1)\n",
    "find_missing(l1)"
   ]
  },
  {
   "cell_type": "code",
   "execution_count": null,
   "metadata": {},
   "outputs": [],
   "source": []
  }
 ],
 "metadata": {
  "kernelspec": {
   "display_name": "Python 3",
   "language": "python",
   "name": "python3"
  },
  "language_info": {
   "codemirror_mode": {
    "name": "ipython",
    "version": 3
   },
   "file_extension": ".py",
   "mimetype": "text/x-python",
   "name": "python",
   "nbconvert_exporter": "python",
   "pygments_lexer": "ipython3",
   "version": "3.5.2"
  }
 },
 "nbformat": 4,
 "nbformat_minor": 2
}
